{
 "cells": [
  {
   "cell_type": "markdown",
   "metadata": {},
   "source": [
    "### Predicting on Test Data\n",
    "\n",
    "#### Load Libraries"
   ]
  },
  {
   "cell_type": "code",
   "execution_count": 1,
   "metadata": {},
   "outputs": [
    {
     "name": "stderr",
     "output_type": "stream",
     "text": [
      "[nltk_data] Downloading package punkt to\n",
      "[nltk_data]     C:\\Users\\Vinubalan\\AppData\\Roaming\\nltk_data...\n",
      "[nltk_data]   Package punkt is already up-to-date!\n",
      "[nltk_data] Downloading package averaged_perceptron_tagger to\n",
      "[nltk_data]     C:\\Users\\Vinubalan\\AppData\\Roaming\\nltk_data...\n",
      "[nltk_data]   Package averaged_perceptron_tagger is already up-to-\n",
      "[nltk_data]       date!\n"
     ]
    }
   ],
   "source": [
    "# Data Analysis\n",
    "import numpy as np\n",
    "import csv\n",
    "import pandas as pd\n",
    "pd.set_option('display.max_rows', 100)\n",
    "pd.set_option(\"display.max_colwidth\", 30)\n",
    "pd.set_option(\"display.max_columns\", 30)\n",
    "\n",
    "# Text Preprocessing\n",
    "from utils import sent2features\n",
    "\n",
    "# Saving and loading Model \n",
    "import pickle"
   ]
  },
  {
   "cell_type": "markdown",
   "metadata": {},
   "source": [
    "#### Load Test Data"
   ]
  },
  {
   "cell_type": "code",
   "execution_count": 2,
   "metadata": {},
   "outputs": [
    {
     "name": "stdout",
     "output_type": "stream",
     "text": [
      "(19697, 2)\n"
     ]
    },
    {
     "data": {
      "text/html": [
       "<div>\n",
       "<style scoped>\n",
       "    .dataframe tbody tr th:only-of-type {\n",
       "        vertical-align: middle;\n",
       "    }\n",
       "\n",
       "    .dataframe tbody tr th {\n",
       "        vertical-align: top;\n",
       "    }\n",
       "\n",
       "    .dataframe thead th {\n",
       "        text-align: right;\n",
       "    }\n",
       "</style>\n",
       "<table border=\"1\" class=\"dataframe\">\n",
       "  <thead>\n",
       "    <tr style=\"text-align: right;\">\n",
       "      <th></th>\n",
       "      <th>sentence_id</th>\n",
       "      <th>word</th>\n",
       "    </tr>\n",
       "  </thead>\n",
       "  <tbody>\n",
       "    <tr>\n",
       "      <th>0</th>\n",
       "      <td>276</td>\n",
       "      <td>Iran</td>\n",
       "    </tr>\n",
       "    <tr>\n",
       "      <th>1</th>\n",
       "      <td>276</td>\n",
       "      <td>this</td>\n",
       "    </tr>\n",
       "    <tr>\n",
       "      <th>2</th>\n",
       "      <td>276</td>\n",
       "      <td>week</td>\n",
       "    </tr>\n",
       "    <tr>\n",
       "      <th>3</th>\n",
       "      <td>276</td>\n",
       "      <td>restarted</td>\n",
       "    </tr>\n",
       "    <tr>\n",
       "      <th>4</th>\n",
       "      <td>276</td>\n",
       "      <td>parts</td>\n",
       "    </tr>\n",
       "  </tbody>\n",
       "</table>\n",
       "</div>"
      ],
      "text/plain": [
       "   sentence_id       word\n",
       "0          276       Iran\n",
       "1          276       this\n",
       "2          276       week\n",
       "3          276  restarted\n",
       "4          276      parts"
      ]
     },
     "execution_count": 2,
     "metadata": {},
     "output_type": "execute_result"
    }
   ],
   "source": [
    "df_test = pd.read_csv(\"data/test_new.txt\", sep = \"\\s+\",quoting=csv.QUOTE_NONE)\n",
    "print(df_test.shape)\n",
    "df_test.head()"
   ]
  },
  {
   "cell_type": "markdown",
   "metadata": {},
   "source": [
    "#### Load Model"
   ]
  },
  {
   "cell_type": "code",
   "execution_count": 3,
   "metadata": {},
   "outputs": [],
   "source": [
    "model = pickle.load(open(\"model/ner_model.pickle\", 'rb'))"
   ]
  },
  {
   "cell_type": "code",
   "execution_count": 4,
   "metadata": {},
   "outputs": [
    {
     "data": {
      "text/plain": [
       "{('B-gpe', 'B-gpe'): -3.163222,\n",
       " ('B-gpe', 'O'): 0.350024,\n",
       " ('B-gpe', 'B-per'): 0.769702,\n",
       " ('B-gpe', 'I-per'): -2.482244,\n",
       " ('B-gpe', 'I-geo'): -0.925704,\n",
       " ('B-gpe', 'B-tim'): -1.535012,\n",
       " ('B-gpe', 'I-tim'): -0.369862,\n",
       " ('B-gpe', 'B-org'): 1.708464,\n",
       " ('B-gpe', 'I-org'): -2.755583,\n",
       " ('B-gpe', 'I-eve'): -0.274743,\n",
       " ('B-gpe', 'I-gpe'): 3.643499,\n",
       " ('B-gpe', 'I-art'): -0.006919,\n",
       " ('O', 'B-gpe'): 0.40253,\n",
       " ('O', 'O'): 1.901419,\n",
       " ('O', 'B-per'): 1.000093,\n",
       " ('O', 'I-per'): -4.48834,\n",
       " ('O', 'B-geo'): 0.454614,\n",
       " ('O', 'I-geo'): -4.881346,\n",
       " ('O', 'B-tim'): 0.567111,\n",
       " ('O', 'I-tim'): -4.884157,\n",
       " ('O', 'B-org'): 0.586498,\n",
       " ('O', 'I-org'): -5.490619,\n",
       " ('O', 'B-eve'): 0.203691,\n",
       " ('O', 'I-eve'): -2.3337,\n",
       " ('O', 'I-gpe'): -2.518099,\n",
       " ('O', 'B-art'): 0.443093,\n",
       " ('O', 'I-art'): -2.715411,\n",
       " ('O', 'I-nat'): -1.200186,\n",
       " ('B-per', 'B-gpe'): -0.104804,\n",
       " ('B-per', 'O'): -0.136357,\n",
       " ('B-per', 'B-per'): -3.173376,\n",
       " ('B-per', 'I-per'): 4.57733,\n",
       " ('B-per', 'B-geo'): -0.02149,\n",
       " ('B-per', 'B-tim'): -1.493628,\n",
       " ('B-per', 'B-org'): 0.02519,\n",
       " ('B-per', 'I-org'): -1.129088,\n",
       " ('B-per', 'I-gpe'): -0.201815,\n",
       " ('I-per', 'O'): 0.103944,\n",
       " ('I-per', 'B-per'): -2.995601,\n",
       " ('I-per', 'I-per'): 4.105494,\n",
       " ('I-per', 'B-geo'): -0.593955,\n",
       " ('I-per', 'B-tim'): 0.387734,\n",
       " ('I-per', 'B-org'): -1.285404,\n",
       " ('I-per', 'I-org'): -0.636804,\n",
       " ('B-geo', 'B-gpe'): 0.480137,\n",
       " ('B-geo', 'O'): 0.544205,\n",
       " ('B-geo', 'B-per'): -1.248633,\n",
       " ('B-geo', 'I-per'): -2.294868,\n",
       " ('B-geo', 'B-geo'): -1.149568,\n",
       " ('B-geo', 'I-geo'): 7.11372,\n",
       " ('B-geo', 'B-tim'): 1.317156,\n",
       " ('B-geo', 'I-tim'): -0.256719,\n",
       " ('B-geo', 'B-org'): -0.835073,\n",
       " ('B-geo', 'I-org'): -1.247676,\n",
       " ('B-geo', 'I-gpe'): -0.81578,\n",
       " ('B-geo', 'B-art'): 0.396974,\n",
       " ('B-geo', 'I-art'): -0.128022,\n",
       " ('I-geo', 'O'): 0.016603,\n",
       " ('I-geo', 'B-per'): -1.040543,\n",
       " ('I-geo', 'I-per'): -1.286388,\n",
       " ('I-geo', 'B-geo'): -0.976444,\n",
       " ('I-geo', 'I-geo'): 4.748861,\n",
       " ('I-geo', 'I-tim'): -4e-06,\n",
       " ('I-geo', 'B-org'): -0.157764,\n",
       " ('I-geo', 'I-org'): -0.776214,\n",
       " ('I-geo', 'I-gpe'): -0.483577,\n",
       " ('B-tim', 'B-gpe'): -0.157201,\n",
       " ('B-tim', 'O'): 0.223353,\n",
       " ('B-tim', 'B-per'): -0.185917,\n",
       " ('B-tim', 'I-per'): -0.40338,\n",
       " ('B-tim', 'B-geo'): -0.032977,\n",
       " ('B-tim', 'B-tim'): -2.199763,\n",
       " ('B-tim', 'I-tim'): 5.46137,\n",
       " ('B-tim', 'B-org'): -1.495433,\n",
       " ('B-tim', 'I-org'): -0.019909,\n",
       " ('B-tim', 'I-eve'): -0.404115,\n",
       " ('B-tim', 'B-nat'): 0.416998,\n",
       " ('I-tim', 'B-gpe'): -0.905595,\n",
       " ('I-tim', 'O'): -0.047084,\n",
       " ('I-tim', 'B-per'): 0.012585,\n",
       " ('I-tim', 'B-geo'): 1.654322,\n",
       " ('I-tim', 'B-tim'): -1.708939,\n",
       " ('I-tim', 'I-tim'): 5.880964,\n",
       " ('I-tim', 'B-org'): -0.208501,\n",
       " ('B-org', 'B-gpe'): 0.054394,\n",
       " ('B-org', 'O'): 0.224992,\n",
       " ('B-org', 'B-per'): 0.560489,\n",
       " ('B-org', 'I-per'): -1.813873,\n",
       " ('B-org', 'B-geo'): -0.862372,\n",
       " ('B-org', 'B-org'): -1.640196,\n",
       " ('B-org', 'I-org'): 6.2192,\n",
       " ('B-org', 'B-art'): 2.217291,\n",
       " ('I-org', 'B-gpe'): -0.200413,\n",
       " ('I-org', 'O'): -0.248667,\n",
       " ('I-org', 'I-per'): -3.048127,\n",
       " ('I-org', 'B-geo'): -1.496634,\n",
       " ('I-org', 'I-geo'): -0.2805,\n",
       " ('I-org', 'B-tim'): -0.015306,\n",
       " ('I-org', 'I-tim'): -0.552678,\n",
       " ('I-org', 'B-org'): -1.582146,\n",
       " ('I-org', 'I-org'): 5.242794,\n",
       " ('B-eve', 'O'): -0.360445,\n",
       " ('B-eve', 'I-eve'): 6.284664,\n",
       " ('I-eve', 'O'): -0.00073,\n",
       " ('I-eve', 'B-tim'): -0.045977,\n",
       " ('I-eve', 'B-eve'): -0.329054,\n",
       " ('I-eve', 'I-eve'): 4.327746,\n",
       " ('I-gpe', 'O'): -0.038518,\n",
       " ('I-gpe', 'B-per'): -0.280556,\n",
       " ('I-gpe', 'I-per'): -0.286712,\n",
       " ('I-gpe', 'I-gpe'): 4.496431,\n",
       " ('B-nat', 'O'): -0.227262,\n",
       " ('B-nat', 'I-nat'): 3.653535,\n",
       " ('B-art', 'O'): -0.068591,\n",
       " ('B-art', 'I-per'): -0.111612,\n",
       " ('B-art', 'B-tim'): -0.010349,\n",
       " ('B-art', 'I-art'): 5.966177,\n",
       " ('I-art', 'O'): -0.35743,\n",
       " ('I-art', 'B-per'): -0.070487,\n",
       " ('I-art', 'B-geo'): 0.24227,\n",
       " ('I-art', 'I-art'): 5.802641,\n",
       " ('I-nat', 'O'): -0.556734,\n",
       " ('I-nat', 'I-nat'): 3.444204}"
      ]
     },
     "execution_count": 4,
     "metadata": {},
     "output_type": "execute_result"
    }
   ],
   "source": [
    "model.transition_features_"
   ]
  },
  {
   "cell_type": "code",
   "execution_count": null,
   "metadata": {},
   "outputs": [],
   "source": [
    "xx = pd.DataFrame([[keys[0],keys[1],values] for keys, values in model.state_features_.items()], columns = ['from','to','score'])\n",
    "xx.head()"
   ]
  },
  {
   "cell_type": "code",
   "execution_count": null,
   "metadata": {},
   "outputs": [],
   "source": [
    "xx[xx['from'] == '+1:word.lemma:this']"
   ]
  },
  {
   "cell_type": "markdown",
   "metadata": {},
   "source": [
    "#### Data preprocessing - Test Data\n",
    "\n",
    "Extract sentences and created features"
   ]
  },
  {
   "cell_type": "code",
   "execution_count": null,
   "metadata": {},
   "outputs": [],
   "source": [
    "test_sentences = []\n",
    "\n",
    "for i in df_test.sentence_id.unique():\n",
    "    test_sentences.append(df_test[df_test.sentence_id == i].word.tolist())\n",
    "\n",
    "X_test= [sent2features(s) for s in test_sentences]\n",
    "\n",
    "pd.DataFrame(X_test[0])"
   ]
  },
  {
   "cell_type": "code",
   "execution_count": null,
   "metadata": {},
   "outputs": [],
   "source": [
    "pd.DataFrame(X_test[0]).shape"
   ]
  },
  {
   "cell_type": "markdown",
   "metadata": {},
   "source": [
    "#### Predict on Test Data"
   ]
  },
  {
   "cell_type": "code",
   "execution_count": null,
   "metadata": {},
   "outputs": [],
   "source": [
    "y_pred = model.predict(X_test)\n",
    "y_pred_flat = [x for sublist in y_pred for x in sublist]\n",
    "df_test['Tag'] = y_pred_flat\n",
    "df_test.head()"
   ]
  },
  {
   "cell_type": "code",
   "execution_count": null,
   "metadata": {},
   "outputs": [],
   "source": [
    "X_test[0]"
   ]
  },
  {
   "cell_type": "code",
   "execution_count": null,
   "metadata": {},
   "outputs": [],
   "source": [
    "pd.options.display.float_format = '{:20,.6f}'.format\n",
    "pd.set_option('display.max_colwidth', 1000)\n"
   ]
  },
  {
   "cell_type": "code",
   "execution_count": null,
   "metadata": {},
   "outputs": [],
   "source": [
    "n = []\n",
    "\n",
    "X_test[0][2]"
   ]
  },
  {
   "cell_type": "code",
   "execution_count": null,
   "metadata": {},
   "outputs": [],
   "source": [
    "pd.DataFrame(model.predict_marginals(X_test[0][0])).astype(object)"
   ]
  },
  {
   "cell_type": "code",
   "execution_count": null,
   "metadata": {},
   "outputs": [],
   "source": [
    "pd.DataFrame(model.predict_marginals(X_test[1])).astype(object)"
   ]
  },
  {
   "cell_type": "code",
   "execution_count": null,
   "metadata": {},
   "outputs": [],
   "source": [
    "z = {'B-gpe': 0.0024998276781207167, 'O': 0.0022653554608588968, 'B-per': 0.0032870215197021864, 'I-per': 0.003739451059759381, 'B-geo': 0.018977163419604436, 'I-geo': 0.004111864475637663, 'B-tim': 0.25482866993206466, 'I-tim': 0.3874132306931088, 'B-org': 0.01360795767420368, 'I-org': 0.004959731996447832, 'B-eve': 0.008249502870830032, 'I-eve': 0.003556243831611179, 'I-gpe': 0.0037888238760149687, 'B-nat': 0.0031689754607647706, 'B-art': 0.15253235038936294, 'I-art': 0.12991061769661125, 'I-nat': 0.003103211965296966}"
   ]
  },
  {
   "cell_type": "code",
   "execution_count": null,
   "metadata": {},
   "outputs": [],
   "source": [
    "pd.DataFrame(z.items)"
   ]
  },
  {
   "cell_type": "markdown",
   "metadata": {},
   "source": [
    "#### Save the results"
   ]
  },
  {
   "cell_type": "code",
   "execution_count": null,
   "metadata": {},
   "outputs": [],
   "source": [
    "df_test.to_csv('results/test_results.csv', index = False)"
   ]
  }
 ],
 "metadata": {
  "kernelspec": {
   "display_name": "Python 3",
   "language": "python",
   "name": "python3"
  },
  "language_info": {
   "codemirror_mode": {
    "name": "ipython",
    "version": 3
   },
   "file_extension": ".py",
   "mimetype": "text/x-python",
   "name": "python",
   "nbconvert_exporter": "python",
   "pygments_lexer": "ipython3",
   "version": "3.7.4"
  }
 },
 "nbformat": 4,
 "nbformat_minor": 2
}
